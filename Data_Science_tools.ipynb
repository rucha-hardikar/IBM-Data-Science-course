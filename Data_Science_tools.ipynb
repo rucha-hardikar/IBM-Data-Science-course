{
 "cells": [
  {
   "cell_type": "markdown",
   "metadata": {},
   "source": [
    "<center>\n",
    "    <img src=\"https://cf-courses-data.s3.us.cloud-object-storage.appdomain.cloud/IBMDeveloperSkillsNetwork-DS0105EN-SkillsNetwork/labs/Module2/images/SN_web_lightmode.png\" width=\"300\" alt=\"cognitiveclass.ai logo\">\n",
    "</center>\n"
   ]
  },
  {
   "cell_type": "markdown",
   "metadata": {},
   "source": [
    "#### Add your code below following the instructions given in the course\n"
   ]
  },
  {
   "cell_type": "markdown",
   "metadata": {},
   "source": [
    "# Data Science Tools\n",
    "## Peer graded assignment"
   ]
  },
  {
   "cell_type": "markdown",
   "metadata": {},
   "source": [
    "### Introduction\n",
    "\n",
    "Data Science involves multiple categories and tools that enable data handling, analysis, and model building. These categories include Data Management, Data Integration and Transformation, Data Visualization, Model Building, and Model Deployment. IBM offers a suite of tools for each category, enhancing productivity and collaboration in data science workflows."
   ]
  },
  {
   "cell_type": "markdown",
   "metadata": {},
   "source": [
    "### List of Data science languages\n",
    "\n",
    "The languages should be selected to learn depending on your needs, the problems are being tried to be solved, and whom they are solved for.\n",
    "The most important data science languages are as follows:  \n",
    "__1. Python__  \n",
    "Widely used in data science for its versatile libraries like Pandas, NumPy, SciPy, and Matplotlib, making it ideal for data manipulation, visualization, and machine learning. Open source with strong community support.  \n",
    "**2. R**  \n",
    "Specializes in statistical analysis and data visualization with a syntax aligned to mathematical computations. It’s beginner-friendly for those transitioning from math to coding.  \n",
    "__3. SQL__  \n",
    "A domain-specific language designed for querying and managing data in relational databases. Essential for extracting and handling large datasets for analysis.  \n",
    "**4. Java**  \n",
    "Known for its stability and scalability, it supports data science through tools like Weka and Apache MLlib. Often used in enterprise-level applications  \n",
    "__5. Scala__  \n",
    "A functional programming language that powers big data frameworks like Apache Spark, widely used for distributed data processing and machine learning.  \n",
    "**6. C++**  \n",
    "Offers high performance for computationally intensive data science tasks, often used in developing algorithms or custom data processing tools.  \n",
    "__7. Javascript__\n",
    "Emerging in data science with libraries like TensorFlow.js for building machine learning models and R-js for statistical computing directly in the browser.  \n",
    "**8. Julia**\n",
    "A high-performance language for numerical computing, offering tools like JuliaDB for large-scale data analysis and efficient execution on big datasets.  "
   ]
  },
  {
   "cell_type": "markdown",
   "metadata": {},
   "source": [
    "### List of Data science libraries\n",
    "#### Data Manipulation Analysis:\n",
    "1. Pandas:\n",
    "   Offers powerful data structures like DataFrames for cleaning, manipulation, and analysis of structured data. It supports easy indexing for efficient data handling.  \n",
    "2. Numpy:\n",
    "   Provides foundational tools for handling arrays and matrices. It allows for efficient mathematical operations on large datasets.\n",
    "\n",
    "#### Data visualization:\n",
    "1. Matplotlib:  \n",
    "   A widely-used library for creating static, animated, and interactive visualizations. It is highly customizable for producing a variety of graphs and plots.  \n",
    "2. Seaborn:\n",
    "   Built on top of Matplotlib, Seaborn provides a high-level interface for creating attractive statistical visualizations such as heatmaps, time series plots, and violin plots.  \n",
    "3. ggplot2(R):\n",
    "   A popular R library for creating complex and aesthetically pleasing data visualizations. It follows a layered approach to visualization, ideal for building custom plots.  \n",
    "4. Vegas(Scala):\n",
    "   A statistical data visualization library in Scala, designed for use with Spark DataFrames, enabling advanced data visualization in distributed environments.\n",
    "\n",
    "#### Machine Learning:\n",
    "1. Scikit learn:\n",
    "   A versatile library for implementing machine learning algorithms like regression, classification, and clustering. It’s built on top of NumPy, SciPy, and Matplotlib.\n",
    "2. Keras:\n",
    "   A high-level deep learning API that simplifies building and training deep learning models. It can utilize GPUs for faster computation.  \n",
    "3. Tensorflow:  \n",
    "   A low-level, flexible deep learning framework used for creating large-scale machine learning models. It is widely used for production deployment of deep learning systems"
   ]
  },
  {
   "cell_type": "markdown",
   "metadata": {},
   "source": [
    "### Data Science tools according to categories\n",
    "| Category | Open Source Tools | Commercial Tools |\n",
    "| -------------| -------------- | -----------------|\n",
    "| Data Management Tools | MySQL, PostgreSQL, Apache CouchDB, MongoDB, Apache Cassandra, Hadoop HDFS, Ceph, Elasticsearch | Microsoft SQL Server, Oracle Database, IBM Db2, Amazon RDS, Google Cloud SQL|\n",
    "| Data Integration and Transformation Tools | Apache Airflow, Kubeflow, Apache Kafka, Apache NiFi, Apache Spark SQL, Node-RED | Informatica, Microsoft SSIS, Talend, IBM DataStage, SnapLogic |\n",
    "| Data Visualization Tools |\tPixieDust, Hue, Kibana, Apache Superset | Tableau, Microsoft Power BI, Qlik, Domo, Sisense |\n",
    "| Model Deployment, Monitoring, and Assessment Tools |\tApache PredictionIO, Kubernetes, Apache Seldon, TensorFlow Lite, TensorFlow | Serving\tAmazon SageMaker, Google AI Platform, Microsoft Azure ML, IBM Watson Studio |\n",
    "| Model Monitoring and Assessment Tools |\tModelDB, Prometheus, IBM AI Fairness 360, IBM AI Explainability 360, IBM Adversarial Robustness 360 Toolbox |\tDataRobot, Fiddler, Algorithmia, SAS Viya, H2O.ai |"
   ]
  },
  {
   "cell_type": "markdown",
   "metadata": {},
   "source": [
    "### Arithematic Expression Examples\n",
    "5*8  \n",
    "2 + 9"
   ]
  },
  {
   "cell_type": "code",
   "execution_count": 5,
   "metadata": {},
   "outputs": [
    {
     "data": {
      "text/plain": [
       "3336"
      ]
     },
     "execution_count": 5,
     "metadata": {},
     "output_type": "execute_result"
    }
   ],
   "source": [
    "# Multiply Numbers\n",
    "12*278"
   ]
  },
  {
   "cell_type": "code",
   "execution_count": 6,
   "metadata": {},
   "outputs": [
    {
     "data": {
      "text/plain": [
       "6519"
      ]
     },
     "execution_count": 6,
     "metadata": {},
     "output_type": "execute_result"
    }
   ],
   "source": [
    "#Add numbers\n",
    "2629+3890"
   ]
  },
  {
   "cell_type": "code",
   "execution_count": 9,
   "metadata": {},
   "outputs": [
    {
     "data": {
      "text/plain": [
       "4.133333333333334"
      ]
     },
     "execution_count": 9,
     "metadata": {},
     "output_type": "execute_result"
    }
   ],
   "source": [
    "#Convert 248 minutes to hours\n",
    "248/60"
   ]
  },
  {
   "cell_type": "markdown",
   "metadata": {},
   "source": [
    "### List of objectives to learn data science tools\n",
    "- Data Management\n",
    "- Data Integration and Transformation\n",
    "- Data Visualization\n",
    "- Machine Learning Frameworks"
   ]
  },
  {
   "cell_type": "markdown",
   "metadata": {},
   "source": [
    "#### Author's Name  \n",
    "*Rucha Hardikar*"
   ]
  },
  {
   "cell_type": "code",
   "execution_count": null,
   "metadata": {},
   "outputs": [],
   "source": []
  }
 ],
 "metadata": {
  "kernelspec": {
   "display_name": "Python 3 (ipykernel)",
   "language": "python",
   "name": "python3"
  },
  "language_info": {
   "codemirror_mode": {
    "name": "ipython",
    "version": 3
   },
   "file_extension": ".py",
   "mimetype": "text/x-python",
   "name": "python",
   "nbconvert_exporter": "python",
   "pygments_lexer": "ipython3",
   "version": "3.11.9"
  }
 },
 "nbformat": 4,
 "nbformat_minor": 4
}
